{
  "nbformat": 4,
  "nbformat_minor": 0,
  "metadata": {
    "colab": {
      "provenance": [],
      "authorship_tag": "ABX9TyP+Iq1jOgud3WPJYlGR34Am",
      "include_colab_link": true
    },
    "kernelspec": {
      "name": "python3",
      "display_name": "Python 3"
    },
    "language_info": {
      "name": "python"
    }
  },
  "cells": [
    {
      "cell_type": "markdown",
      "metadata": {
        "id": "view-in-github",
        "colab_type": "text"
      },
      "source": [
        "<a href=\"https://colab.research.google.com/github/wajitshaikh1431/Krushi_Sarthi/blob/master/numpy_lib.ipynb\" target=\"_parent\"><img src=\"https://colab.research.google.com/assets/colab-badge.svg\" alt=\"Open In Colab\"/></a>"
      ]
    },
    {
      "cell_type": "code",
      "execution_count": 1,
      "metadata": {
        "id": "lNKO12HdH-rt"
      },
      "outputs": [],
      "source": [
        "import pandas as pd\n",
        "import numpy as np"
      ]
    },
    {
      "cell_type": "code",
      "source": [
        "#numpy is numbers in python\n",
        "arr = np.array([2,4,3,12,4])\n",
        "#print(arr)\n",
        "print(arr.size)\n",
        "print(arr.shape)\n",
        "print(arr.ndim)"
      ],
      "metadata": {
        "colab": {
          "base_uri": "https://localhost:8080/"
        },
        "id": "8wsSNtlqII68",
        "outputId": "3a084dae-8c74-4e09-ada0-87a14efac3d4"
      },
      "execution_count": 23,
      "outputs": [
        {
          "output_type": "stream",
          "name": "stdout",
          "text": [
            "5\n",
            "(5,)\n",
            "1\n"
          ]
        }
      ]
    },
    {
      "cell_type": "code",
      "source": [
        "#numpy is numbers in python\n",
        "arr = np.array({2,4,3,12,4,'hello'})\n",
        "print(arr)\n",
        "type(arr)\n",
        "print(arr.ndim)\n"
      ],
      "metadata": {
        "colab": {
          "base_uri": "https://localhost:8080/"
        },
        "id": "GVLTLJr8ImeP",
        "outputId": "fd36237c-8ffb-448f-95a8-a80ab98043ed"
      },
      "execution_count": 27,
      "outputs": [
        {
          "output_type": "stream",
          "name": "stdout",
          "text": [
            "{2, 3, 4, 12, 'hello'}\n",
            "0\n"
          ]
        }
      ]
    },
    {
      "cell_type": "code",
      "source": [
        "#numpy is numbers in python\n",
        "arr = np.array([[2,4,3],[12,4,5]])\n",
        "#print(arr)\n",
        "print(arr.size)\n",
        "print(arr.shape)\n",
        "print(arr.ndim)"
      ],
      "metadata": {
        "colab": {
          "base_uri": "https://localhost:8080/"
        },
        "id": "hwOLjhbzJgJk",
        "outputId": "c66ca598-f229-4e77-c845-aea14ae9de74"
      },
      "execution_count": 28,
      "outputs": [
        {
          "output_type": "stream",
          "name": "stdout",
          "text": [
            "6\n",
            "(2, 3)\n",
            "2\n"
          ]
        }
      ]
    },
    {
      "cell_type": "code",
      "source": [
        "arr = np.array([[2,4,3,12,4,[89,34,32,23,22]]    ])\n",
        "print(arr.size)\n",
        "print(arr.shape)\n",
        "print(arr.ndim)"
      ],
      "metadata": {
        "colab": {
          "base_uri": "https://localhost:8080/"
        },
        "id": "m7gDVCcvNnhL",
        "outputId": "aef66a89-63bb-468c-be2f-8078348b5580"
      },
      "execution_count": 33,
      "outputs": [
        {
          "output_type": "stream",
          "name": "stdout",
          "text": [
            "6\n",
            "(1, 6)\n",
            "2\n"
          ]
        },
        {
          "output_type": "stream",
          "name": "stderr",
          "text": [
            "<ipython-input-33-22996320ee0c>:1: VisibleDeprecationWarning: Creating an ndarray from ragged nested sequences (which is a list-or-tuple of lists-or-tuples-or ndarrays with different lengths or shapes) is deprecated. If you meant to do this, you must specify 'dtype=object' when creating the ndarray.\n",
            "  arr = np.array([[2,4,3,12,4,[89,34,32,23,22]]    ])\n"
          ]
        }
      ]
    },
    {
      "cell_type": "code",
      "source": [
        "arry1 = np.array([[[3,2],[5,6]],[[13,22],[15,26]]])\n",
        "print(arry1.size)\n",
        "print(arry1.shape)\n",
        "print(arry1.ndim)"
      ],
      "metadata": {
        "colab": {
          "base_uri": "https://localhost:8080/"
        },
        "id": "9VKeqTTTPdSg",
        "outputId": "a801bf02-c553-4ea9-b98c-deadf42b9faa"
      },
      "execution_count": 57,
      "outputs": [
        {
          "output_type": "stream",
          "name": "stdout",
          "text": [
            "8\n",
            "(2, 2, 2)\n",
            "3\n"
          ]
        }
      ]
    },
    {
      "cell_type": "code",
      "source": [
        "arr=np.array([[[4,5,6,7],[8,9,10,11]],[[41,15,16,17],[18,19,110,111]]])\n",
        "print(arr.shape)\n",
        "arr[:,:,1:3]"
      ],
      "metadata": {
        "colab": {
          "base_uri": "https://localhost:8080/"
        },
        "id": "VDYLgeuxQX5x",
        "outputId": "dffcfb37-d4d5-4d61-8e84-0ab5df9e6bfb"
      },
      "execution_count": 85,
      "outputs": [
        {
          "output_type": "stream",
          "name": "stdout",
          "text": [
            "(2, 2, 4)\n"
          ]
        },
        {
          "output_type": "execute_result",
          "data": {
            "text/plain": [
              "array([[[  5,   6],\n",
              "        [  9,  10]],\n",
              "\n",
              "       [[ 15,  16],\n",
              "        [ 19, 110]]])"
            ]
          },
          "metadata": {},
          "execution_count": 85
        }
      ]
    },
    {
      "cell_type": "code",
      "source": [],
      "metadata": {
        "id": "e5XEAMgGQqyk"
      },
      "execution_count": null,
      "outputs": []
    }
  ]
}